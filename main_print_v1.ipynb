{
 "cells": [
  {
   "cell_type": "code",
   "execution_count": null,
   "id": "dcb2ce35",
   "metadata": {
    "vscode": {
     "languageId": "plaintext"
    }
   },
   "outputs": [],
   "source": [
    "# 변수 선언\n",
    "name = \"최현호 화이팅!\"\n",
    "age = 45\n",
    "score = 95.5\n",
    "\n",
    "# 1. 기본 출력\n",
    "print(\"Hello, Python!\")"
   ]
  }
 ],
 "metadata": {
  "language_info": {
   "name": "python"
  }
 },
 "nbformat": 4,
 "nbformat_minor": 5
}
